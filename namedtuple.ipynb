{
 "cells": [
  {
   "cell_type": "code",
   "execution_count": 30,
   "metadata": {},
   "outputs": [],
   "source": [
    "from collections import namedtuple,OrderedDict\n",
    "\n",
    "PersonalDetails=namedtuple(\"PersonalDetails\",\"date_of_birth\")\n",
    "person_features=namedtuple(\"person_features\",[\"eye_color\",\"IQ_score\"])\n",
    "person_1_features=person_features(\"blue\",109)\n",
    "person_1_details=PersonalDetails(\"09-04-1991\")\n"
   ]
  },
  {
   "cell_type": "code",
   "execution_count": 1,
   "metadata": {},
   "outputs": [
    {
     "name": "stdout",
     "output_type": "stream",
     "text": [
      "person_features(eye_color='blue', IQ_score=109)\n",
      "PersonalDetails(date_of_birth='09-04-1991')\n"
     ]
    }
   ],
   "source": [
    "print(person_1_features)\n",
    "print(person_1_details)"
   ]
  },
  {
   "cell_type": "code",
   "execution_count": 31,
   "metadata": {},
   "outputs": [
    {
     "name": "stdout",
     "output_type": "stream",
     "text": [
      "OrderedDict([('date_of_birth', '09-04-1991')])\n",
      "OrderedDict([('eye_color', 'blue'), ('IQ_score', 109)])\n",
      "test(date_of_birth='09-04-1991', eye_color='blue', IQ_score=109)\n"
     ]
    }
   ],
   "source": [
    "def join(*args):\n",
    "    my_keys=OrderedDict()\n",
    "    for item in args:\n",
    "        a=item._asdict()\n",
    "        print(a)\n",
    "        my_keys.update(a)\n",
    "        #my_values.append(a.values())\n",
    "        test = namedtuple(\"test\", my_keys.keys())(*my_keys.values())\n",
    "    return test\n",
    "\n",
    "test=join(person_1_details,person_1_features)\n",
    "print(test)\n",
    "#print(my_keys,my_values)\n",
    "#person=namedtuple(\"person\",str(my_keys))\n",
    "#personx=person(str(my_values))\n",
    "\n",
    "    \n",
    "        "
   ]
  },
  {
   "cell_type": "code",
   "execution_count": 34,
   "metadata": {},
   "outputs": [
    {
     "name": "stdout",
     "output_type": "stream",
     "text": [
      "OrderedDict([('date_of_birth', '09-04-1991')])\n",
      "OrderedDict([('eye_color', 'blue'), ('IQ_score', 109)])\n",
      "person(date_of_birth='09-04-1991', eye_color='blue', IQ_score=109)\n"
     ]
    }
   ],
   "source": [
    "class PersonalJoiner:\n",
    "    \n",
    "    @staticmethod\n",
    "    def join(*args):\n",
    "        my_dict=OrderedDict()\n",
    "        for item in args:\n",
    "            a=item._asdict()\n",
    "            print(a)\n",
    "            my_dict.update(a)\n",
    "            #my_values.append(a.values())\n",
    "            person = namedtuple(\"person\", my_dict.keys())(*my_dict.values())\n",
    "        return person\n",
    "    \n",
    "    \n",
    "PersonalDetails=namedtuple(\"PersonalDetails\",\"date_of_birth\")\n",
    "    \n",
    "person_features=namedtuple(\"person_features\",[\"eye_color\",\"IQ_score\"])\n",
    "    \n",
    "person1_1_details=PersonalDetails(\"09-04-1991\")\n",
    "    \n",
    "person1_1_features=person_features(\"blue\",109)\n",
    "    \n",
    "\n",
    "\n",
    "print(PersonalJoiner.join(person1_1_details, person1_1_features))\n",
    "    \n",
    "    \n",
    "        \n",
    "        \n",
    "    \n"
   ]
  },
  {
   "cell_type": "code",
   "execution_count": 37,
   "metadata": {},
   "outputs": [
    {
     "name": "stdout",
     "output_type": "stream",
     "text": [
      "does this work\n"
     ]
    }
   ],
   "source": [
    "#TASK 5:\n",
    "\n",
    "def double(function):\n",
    "    function\n",
    "\n",
    "\n",
    "\n",
    "\n",
    "\n",
    "\n",
    "\n"
   ]
  },
  {
   "cell_type": "code",
   "execution_count": 46,
   "metadata": {},
   "outputs": [
    {
     "name": "stdout",
     "output_type": "stream",
     "text": [
      "dict_keys([1, 3]) dict_values([2, 4])\n"
     ]
    }
   ],
   "source": [
    "a={1:2,3:4}\n",
    "print(a.keys(),a.values"
   ]
  },
  {
   "cell_type": "code",
   "execution_count": 48,
   "metadata": {},
   "outputs": [
    {
     "data": {
      "text/plain": [
       "{'b': 2, 'a': 1}"
      ]
     },
     "execution_count": 48,
     "metadata": {},
     "output_type": "execute_result"
    }
   ],
   "source": [
    "d = {'a': 1}\n",
    "{'b': 2, **d}"
   ]
  },
  {
   "cell_type": "code",
   "execution_count": 69,
   "metadata": {},
   "outputs": [
    {
     "name": "stdout",
     "output_type": "stream",
     "text": [
      "inside double\n",
      "insdie afunction\n"
     ]
    },
    {
     "data": {
      "text/plain": [
       "11"
      ]
     },
     "execution_count": 69,
     "metadata": {},
     "output_type": "execute_result"
    }
   ],
   "source": [
    "def double(function):\n",
    "    print(\"inside double\")\n",
    "    return function(1)\n",
    "        \n",
    "def afunction(a):\n",
    "    print(\"insdie afunction\")\n",
    "    return a+10\n",
    "\n",
    "double(afunction)\n",
    "\n",
    "    \n",
    "    \n",
    "    "
   ]
  },
  {
   "cell_type": "code",
   "execution_count": 85,
   "metadata": {},
   "outputs": [
    {
     "name": "stdout",
     "output_type": "stream",
     "text": [
      "['check', 'check']\n"
     ]
    }
   ],
   "source": [
    "def double(afunction):\n",
    "    def wrapper(x):\n",
    "        b=afunction(x)\n",
    "        return [b]*2\n",
    "    \n",
    "    return wrapper\n",
    "        \n",
    "\n",
    "@double\n",
    "def nextfunction(x):\n",
    "    return x\n",
    "\n",
    "print(nextfunction(\"check\"))\n",
    "    "
   ]
  },
  {
   "cell_type": "code",
   "execution_count": 86,
   "metadata": {},
   "outputs": [
    {
     "name": "stdout",
     "output_type": "stream",
     "text": [
      "['check', 'check']\n"
     ]
    }
   ],
   "source": [
    "def double(afunction):\n",
    "    def wrapper(x):\n",
    "        b=afunction(x)\n",
    "        return [b]*2\n",
    "    \n",
    "    return wrapper\n",
    "        \n",
    "\n",
    "def nextfunction(x):\n",
    "    return x\n",
    "\n",
    "nex=double(nextfunction)\n",
    "print(nex(\"check\"))"
   ]
  },
  {
   "cell_type": "code",
   "execution_count": 84,
   "metadata": {},
   "outputs": [
    {
     "name": "stdout",
     "output_type": "stream",
     "text": [
      "it doesn't\n"
     ]
    }
   ],
   "source": [
    "def afunction(anotherfxn):\n",
    "    def wrapper(*kwargs):\n",
    "        b=anotherfxn(*kwargs)\n",
    "        if \"role\" in b and b[\"role\"]==\"admin\":\n",
    "            return \"it exists\"\n",
    "        else:\n",
    "            return \"it doesn't\"\n",
    "    \n",
    "    return wrapper\n",
    "        \n",
    "@afunction        \n",
    "def verify(x):\n",
    "    return x\n",
    "\n",
    "print(verify({\"role\":\"admiin\",\"role\":\"admiin\"}))\n",
    "    "
   ]
  },
  {
   "cell_type": "code",
   "execution_count": null,
   "metadata": {},
   "outputs": [],
   "source": []
  }
 ],
 "metadata": {
  "kernelspec": {
   "display_name": "Python 3",
   "language": "python",
   "name": "python3"
  },
  "language_info": {
   "codemirror_mode": {
    "name": "ipython",
    "version": 3
   },
   "file_extension": ".py",
   "mimetype": "text/x-python",
   "name": "python",
   "nbconvert_exporter": "python",
   "pygments_lexer": "ipython3",
   "version": "3.7.3"
  }
 },
 "nbformat": 4,
 "nbformat_minor": 2
}

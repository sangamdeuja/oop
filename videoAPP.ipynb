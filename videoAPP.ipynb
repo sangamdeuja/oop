{
 "cells": [
  {
   "cell_type": "code",
   "execution_count": 88,
   "metadata": {},
   "outputs": [
    {
     "name": "stdout",
     "output_type": "stream",
     "text": [
      "1\n",
      "2\n",
      "3\n",
      "number of attendant is 3\n"
     ]
    }
   ],
   "source": [
    "class VideoApp:\n",
    "    action=[\"speaking\",\"silent\"]\n",
    "    participants_online=0\n",
    "\n",
    "    def __init__(self,user_name,company):\n",
    "        self.user_name=user_name\n",
    "        self.company=company\n",
    "        \n",
    "                      \n",
    "    def show_participants_online(self):\n",
    "        print(\"number of attendant is {}\".format(self.participants_online))\n",
    "    \n",
    "    @classmethod\n",
    "    def go_online(cls):\n",
    "        cls.participants_online+=1\n",
    "        print(cls.participants_online)\n",
    "        \n",
    "    @classmethod    \n",
    "    def go_offline(cls):\n",
    "        cls.participants_online-=1\n",
    "        print(cls.participants_online)\n",
    "    \n",
    "    def status(self,act):\n",
    "        self.act=act\n",
    "        if self.act in self.action:\n",
    "            return \"{} is {}\".format(self.user_name,self.act)\n",
    "        raise ValueError(\"not any of speaking/silent\")\n",
    "            \n",
    "\n",
    "call1=VideoApp(\"sangam\",\"Integrify\")\n",
    "call2=VideoApp(\"hari\",\"Integrify\")\n",
    "call3=VideoApp(\"manuel\",\"ACSC\")\n",
    "call1.go_online()\n",
    "call2.go_online()\n",
    "call3.go_online()\n",
    "call1.show_participants_online()\n",
    "\n",
    "\n",
    "\n"
   ]
  },
  {
   "cell_type": "code",
   "execution_count": 89,
   "metadata": {},
   "outputs": [
    {
     "name": "stdout",
     "output_type": "stream",
     "text": [
      "2\n",
      "number of attendant is 2\n"
     ]
    }
   ],
   "source": [
    "call1.go_offline()\n",
    "call1.show_participants_online()"
   ]
  },
  {
   "cell_type": "code",
   "execution_count": 90,
   "metadata": {},
   "outputs": [
    {
     "data": {
      "text/plain": [
       "'sangam is silent'"
      ]
     },
     "execution_count": 90,
     "metadata": {},
     "output_type": "execute_result"
    }
   ],
   "source": [
    "call1.status(\"silent\")"
   ]
  },
  {
   "cell_type": "code",
   "execution_count": 91,
   "metadata": {},
   "outputs": [
    {
     "data": {
      "text/plain": [
       "'hari is speaking'"
      ]
     },
     "execution_count": 91,
     "metadata": {},
     "output_type": "execute_result"
    }
   ],
   "source": [
    "call2.status(\"speaking\")"
   ]
  },
  {
   "cell_type": "code",
   "execution_count": 112,
   "metadata": {},
   "outputs": [],
   "source": [
    "class Message:\n",
    "    def __init__(self,user_name,message):\n",
    "        self.user_name=user_name\n",
    "        self.message=message\n",
    "    \n",
    "    def _status(self):\n",
    "        return  \"{} sent the message: {}\".format(self.user_name,self.message)\n",
    "\n",
    "call3=Message(\"John\",\"Please call me\")\n",
    "    "
   ]
  },
  {
   "cell_type": "code",
   "execution_count": 113,
   "metadata": {},
   "outputs": [
    {
     "data": {
      "text/plain": [
       "'John sent the message: Please call me'"
      ]
     },
     "execution_count": 113,
     "metadata": {},
     "output_type": "execute_result"
    }
   ],
   "source": [
    "call3._status()"
   ]
  },
  {
   "cell_type": "code",
   "execution_count": 117,
   "metadata": {},
   "outputs": [],
   "source": [
    "class ChatApp(VideoApp,Message):\n",
    "    def __init__(self,user_name,company,message):\n",
    "        VideoApp.__init__(self,user_name,company)\n",
    "        Message.__init__(self,user_name,message)\n",
    "\n",
    "call5=ChatApp(\"person1\",\"Integrify\",\"message\")\n"
   ]
  },
  {
   "cell_type": "code",
   "execution_count": 118,
   "metadata": {},
   "outputs": [
    {
     "data": {
      "text/plain": [
       "'Integrify'"
      ]
     },
     "execution_count": 118,
     "metadata": {},
     "output_type": "execute_result"
    }
   ],
   "source": [
    "call1.company"
   ]
  },
  {
   "cell_type": "code",
   "execution_count": 119,
   "metadata": {},
   "outputs": [
    {
     "data": {
      "text/plain": [
       "'Integrify'"
      ]
     },
     "execution_count": 119,
     "metadata": {},
     "output_type": "execute_result"
    }
   ],
   "source": [
    "call5.company"
   ]
  },
  {
   "cell_type": "code",
   "execution_count": 120,
   "metadata": {},
   "outputs": [
    {
     "name": "stdout",
     "output_type": "stream",
     "text": [
      "3\n"
     ]
    }
   ],
   "source": [
    "call5.go_online()"
   ]
  },
  {
   "cell_type": "code",
   "execution_count": 121,
   "metadata": {},
   "outputs": [],
   "source": [
    "call6=ChatApp(\"person1\",\"Integrify\",\"message\")"
   ]
  },
  {
   "cell_type": "code",
   "execution_count": 122,
   "metadata": {},
   "outputs": [
    {
     "name": "stdout",
     "output_type": "stream",
     "text": [
      "4\n"
     ]
    }
   ],
   "source": [
    "call6.go_online()"
   ]
  },
  {
   "cell_type": "code",
   "execution_count": 123,
   "metadata": {},
   "outputs": [
    {
     "data": {
      "text/plain": [
       "'person1 sent the message: message'"
      ]
     },
     "execution_count": 123,
     "metadata": {},
     "output_type": "execute_result"
    }
   ],
   "source": [
    "call6._status()"
   ]
  },
  {
   "cell_type": "code",
   "execution_count": null,
   "metadata": {},
   "outputs": [],
   "source": []
  },
  {
   "cell_type": "code",
   "execution_count": null,
   "metadata": {},
   "outputs": [],
   "source": []
  }
 ],
 "metadata": {
  "kernelspec": {
   "display_name": "Python 3",
   "language": "python",
   "name": "python3"
  },
  "language_info": {
   "codemirror_mode": {
    "name": "ipython",
    "version": 3
   },
   "file_extension": ".py",
   "mimetype": "text/x-python",
   "name": "python",
   "nbconvert_exporter": "python",
   "pygments_lexer": "ipython3",
   "version": "3.7.3"
  }
 },
 "nbformat": 4,
 "nbformat_minor": 2
}

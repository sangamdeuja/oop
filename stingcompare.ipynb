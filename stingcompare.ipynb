{
 "cells": [
  {
   "cell_type": "code",
   "execution_count": 1,
   "metadata": {},
   "outputs": [
    {
     "name": "stdout",
     "output_type": "stream",
     "text": [
      "Hello\n",
      "False\n",
      "True\n",
      "False\n",
      "4\n"
     ]
    }
   ],
   "source": [
    "class StringCompare(str):\n",
    "\n",
    "    \"\"\"https://www.agiliq.com/blog/2012/06/__new__-python/\"\"\"\n",
    "\n",
    "    def __new__(cls, content):\n",
    "\n",
    "        new_instance = super(StringCompare, cls).__new__(cls)\n",
    "        setattr(new_instance, 'strings', content)\n",
    "        return new_instance\n",
    "\n",
    "    def __ge__(self, other):  ## comparing >=\n",
    "        return self.strings >=  other.strings\n",
    "\n",
    "    def __le__(self, other):\n",
    "        return self.strings <= other.strings\n",
    "\n",
    "    def __lt__(self, other):\n",
    "        return self.strings < other.strings\n",
    "\n",
    "    def __gt__(self, other):\n",
    "          return self.strings > other.strings\n",
    "\n",
    "\n",
    "    def __len__(self):\n",
    "        return len(self.strings)\n",
    "\n",
    "\n",
    "\n",
    "\n",
    "A = StringCompare(\"Hello\")\n",
    "print((A.strings))\n",
    "\n",
    "B = StringCompare('Ball')\n",
    "print(B > A )\n",
    "print(B < A )\n",
    "\n",
    "print(B >= A )\n",
    "print(len(B))"
   ]
  },
  {
   "cell_type": "code",
   "execution_count": 2,
   "metadata": {},
   "outputs": [
    {
     "data": {
      "text/plain": [
       "True"
      ]
     },
     "execution_count": 2,
     "metadata": {},
     "output_type": "execute_result"
    }
   ],
   "source": [
    "\"andedaa\">\"adfdf\""
   ]
  },
  {
   "cell_type": "code",
   "execution_count": null,
   "metadata": {},
   "outputs": [],
   "source": []
  }
 ],
 "metadata": {
  "kernelspec": {
   "display_name": "Python 3",
   "language": "python",
   "name": "python3"
  },
  "language_info": {
   "codemirror_mode": {
    "name": "ipython",
    "version": 3
   },
   "file_extension": ".py",
   "mimetype": "text/x-python",
   "name": "python",
   "nbconvert_exporter": "python",
   "pygments_lexer": "ipython3",
   "version": "3.7.3"
  }
 },
 "nbformat": 4,
 "nbformat_minor": 2
}

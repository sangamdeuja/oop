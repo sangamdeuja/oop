{
 "cells": [
  {
   "cell_type": "code",
   "execution_count": 37,
   "metadata": {},
   "outputs": [
    {
     "name": "stdout",
     "output_type": "stream",
     "text": [
      "person object\n",
      "sangam 33 Nepal\n"
     ]
    }
   ],
   "source": [
    "class Person:\n",
    "  def __init__(self,name,age,country):\n",
    "    self.name=name\n",
    "    self.age=age\n",
    "    self.country=country\n",
    "  def __repr__(self):\n",
    "    return f'person object' \n",
    "\n",
    "first_person=Person('sangam',33,'Nepal')\n",
    "print(first_person)\n",
    "print(first_person.name,first_person.age,first_person.country)\n",
    "\n",
    "\n",
    "    "
   ]
  },
  {
   "cell_type": "code",
   "execution_count": 61,
   "metadata": {},
   "outputs": [
    {
     "name": "stdout",
     "output_type": "stream",
     "text": [
      "<function parent.<locals>.child2 at 0x000001ABB35419D8>\n"
     ]
    }
   ],
   "source": [
    "#Return function from function\n",
    "def parent(age):\n",
    "    def child1():\n",
    "        return \"this is child 1\"\n",
    "    def child2():\n",
    "         return \"this is child 2\"\n",
    "    if age>=5:\n",
    "        return child1\n",
    "    else:\n",
    "        return child2\n",
    "\n",
    "        \n"
   ]
  },
  {
   "cell_type": "code",
   "execution_count": 65,
   "metadata": {},
   "outputs": [
    {
     "data": {
      "text/plain": [
       "'this is child 2'"
      ]
     },
     "execution_count": 65,
     "metadata": {},
     "output_type": "execute_result"
    }
   ],
   "source": [
    "x=parent(2)\n",
    "x()\n"
   ]
  },
  {
   "cell_type": "code",
   "execution_count": 73,
   "metadata": {},
   "outputs": [
    {
     "name": "stdout",
     "output_type": "stream",
     "text": [
      "Something is happening before the function is called.\n",
      "Whee!\n",
      "Something is happening after the function is called.\n"
     ]
    },
    {
     "data": {
      "text/plain": [
       "'check'"
      ]
     },
     "execution_count": 73,
     "metadata": {},
     "output_type": "execute_result"
    }
   ],
   "source": [
    "def my_decorator(func):\n",
    "    def wrapper():\n",
    "        print(\"Something is happening before the function is called.\")\n",
    "        func()\n",
    "        print(\"Something is happening after the function is called.\")\n",
    "        return \"check\"\n",
    "    return wrapper\n",
    "\n",
    "def say_whee():\n",
    "    print(\"Whee!\")\n",
    "\n",
    "say_whee = my_decorator(say_whee)\n",
    "say_whee()"
   ]
  },
  {
   "cell_type": "code",
   "execution_count": 75,
   "metadata": {},
   "outputs": [
    {
     "name": "stdout",
     "output_type": "stream",
     "text": [
      "Something is happening before the function is called.\n",
      "Whee!\n",
      "Something is happening after the function is called.\n"
     ]
    }
   ],
   "source": [
    "def my_decorator(func):\n",
    "    def wrapper():\n",
    "        print(\"Something is happening before the function is called.\")\n",
    "        func()\n",
    "        print(\"Something is happening after the function is called.\")\n",
    "    return wrapper\n",
    "\n",
    "@my_decorator\n",
    "def say_whee():\n",
    "    print(\"Whee!\")\n",
    "say_whee()"
   ]
  },
  {
   "cell_type": "code",
   "execution_count": 111,
   "metadata": {},
   "outputs": [
    {
     "name": "stdout",
     "output_type": "stream",
     "text": [
      "<function hello at 0x000001ABB34B6D08> was called.\n",
      "hello\n"
     ]
    }
   ],
   "source": [
    "def mydecorator(f):  # f is the function passed to us from python\n",
    "    def log_f_as_called():\n",
    "        print(f'{f} was called.')\n",
    "        f()\n",
    "    return log_f_as_called\n",
    "\n",
    "\n",
    "@mydecorator\n",
    "def hello():\n",
    "    print('hello')\n",
    "hello()\n",
    "    "
   ]
  },
  {
   "cell_type": "code",
   "execution_count": 116,
   "metadata": {},
   "outputs": [
    {
     "name": "stdout",
     "output_type": "stream",
     "text": [
      "Adam's age is: 19\n"
     ]
    },
    {
     "ename": "TypeError",
     "evalue": "__init__() missing 1 required positional argument: 'age'",
     "output_type": "error",
     "traceback": [
      "\u001b[1;31m---------------------------------------------------------------------------\u001b[0m",
      "\u001b[1;31mTypeError\u001b[0m                                 Traceback (most recent call last)",
      "\u001b[1;32m<ipython-input-116-d1877e0e1626>\u001b[0m in \u001b[0;36m<module>\u001b[1;34m\u001b[0m\n\u001b[0;32m     17\u001b[0m \u001b[0mperson\u001b[0m\u001b[1;33m.\u001b[0m\u001b[0mdisplay\u001b[0m\u001b[1;33m(\u001b[0m\u001b[1;33m)\u001b[0m\u001b[1;33m\u001b[0m\u001b[1;33m\u001b[0m\u001b[0m\n\u001b[0;32m     18\u001b[0m \u001b[1;33m\u001b[0m\u001b[0m\n\u001b[1;32m---> 19\u001b[1;33m \u001b[0mperson1\u001b[0m \u001b[1;33m=\u001b[0m \u001b[0mPerson\u001b[0m\u001b[1;33m.\u001b[0m\u001b[0mfromBirthYear\u001b[0m\u001b[1;33m(\u001b[0m\u001b[1;34m'John'\u001b[0m\u001b[1;33m,\u001b[0m  \u001b[1;36m1985\u001b[0m\u001b[1;33m)\u001b[0m\u001b[1;33m\u001b[0m\u001b[1;33m\u001b[0m\u001b[0m\n\u001b[0m\u001b[0;32m     20\u001b[0m \u001b[0mperson1\u001b[0m\u001b[1;33m.\u001b[0m\u001b[0mdisplay\u001b[0m\u001b[1;33m(\u001b[0m\u001b[1;33m)\u001b[0m\u001b[1;33m\u001b[0m\u001b[1;33m\u001b[0m\u001b[0m\n",
      "\u001b[1;32m<ipython-input-116-d1877e0e1626>\u001b[0m in \u001b[0;36mfromBirthYear\u001b[1;34m(cls, name, birthYear)\u001b[0m\n\u001b[0;32m      9\u001b[0m     \u001b[1;33m@\u001b[0m\u001b[0mclassmethod\u001b[0m\u001b[1;33m\u001b[0m\u001b[1;33m\u001b[0m\u001b[0m\n\u001b[0;32m     10\u001b[0m     \u001b[1;32mdef\u001b[0m \u001b[0mfromBirthYear\u001b[0m\u001b[1;33m(\u001b[0m\u001b[0mcls\u001b[0m\u001b[1;33m,\u001b[0m \u001b[0mname\u001b[0m\u001b[1;33m,\u001b[0m \u001b[0mbirthYear\u001b[0m\u001b[1;33m)\u001b[0m\u001b[1;33m:\u001b[0m\u001b[1;33m\u001b[0m\u001b[1;33m\u001b[0m\u001b[0m\n\u001b[1;32m---> 11\u001b[1;33m         \u001b[1;32mreturn\u001b[0m \u001b[0mcls\u001b[0m\u001b[1;33m(\u001b[0m\u001b[0mname\u001b[0m\u001b[1;33m)\u001b[0m\u001b[1;33m\u001b[0m\u001b[1;33m\u001b[0m\u001b[0m\n\u001b[0m\u001b[0;32m     12\u001b[0m \u001b[1;33m\u001b[0m\u001b[0m\n\u001b[0;32m     13\u001b[0m     \u001b[1;32mdef\u001b[0m \u001b[0mdisplay\u001b[0m\u001b[1;33m(\u001b[0m\u001b[0mself\u001b[0m\u001b[1;33m)\u001b[0m\u001b[1;33m:\u001b[0m\u001b[1;33m\u001b[0m\u001b[1;33m\u001b[0m\u001b[0m\n",
      "\u001b[1;31mTypeError\u001b[0m: __init__() missing 1 required positional argument: 'age'"
     ]
    }
   ],
   "source": [
    "from datetime import date\n",
    "\n",
    "# random Person\n",
    "class Person:\n",
    "    def __init__(self, name, age):\n",
    "        self.name = name\n",
    "        self.age = age\n",
    "\n",
    "    @classmethod\n",
    "    def fromBirthYear(cls, name, birthYear):\n",
    "        return cls(name, date.today().year - birthYear)\n",
    "\n",
    "    def display(self):\n",
    "        print(self.name + \"'s age is: \" + str(self.age))\n",
    "\n",
    "person = Person('Adam', 19)\n",
    "person.display()\n",
    "\n",
    "person1 = Person.fromBirthYear('John',  1985)\n",
    "person1.display()"
   ]
  },
  {
   "cell_type": "code",
   "execution_count": 123,
   "metadata": {},
   "outputs": [
    {
     "data": {
      "text/plain": [
       "'ham'"
      ]
     },
     "execution_count": 123,
     "metadata": {},
     "output_type": "execute_result"
    }
   ],
   "source": [
    "class Pizza:\n",
    "    def __init__(self, ingredients):\n",
    "        self.ingredients = ingredients\n",
    "\n",
    "    def __repr__(self):\n",
    "        return f'Pizza({self.ingredients!r})'\n",
    "\n",
    "    @classmethod\n",
    "    def margherita(cls):\n",
    "        return ('mozzarella')\n",
    "\n",
    "    @classmethod\n",
    "    def prosciutto(cls):\n",
    "        return 'ham'\n",
    "    \n",
    "\n",
    "Pizza.prosciutto()   "
   ]
  },
  {
   "cell_type": "code",
   "execution_count": 150,
   "metadata": {},
   "outputs": [
    {
     "name": "stdout",
     "output_type": "stream",
     "text": [
      "600\n",
      "2\n",
      "5000\n"
     ]
    }
   ],
   "source": [
    "class Person:\n",
    "    def __init__(self,pay):\n",
    "        self.a=pay\n",
    "\n",
    "\n",
    "    @property\n",
    "    def a(self):\n",
    "        return self.__a\n",
    "    \n",
    "    @a.setter\n",
    "    def a(self,pay):\n",
    "        self.__a=pay\n",
    "\n",
    "sangam=Person(600)\n",
    "print(sangam.a)\n",
    "sangam.a=2\n",
    "print(sangam.a)\n",
    "another=Person(5000)\n",
    "print(another.a)\n",
    "    "
   ]
  },
  {
   "cell_type": "code",
   "execution_count": 137,
   "metadata": {},
   "outputs": [
    {
     "name": "stdout",
     "output_type": "stream",
     "text": [
      "2\n"
     ]
    }
   ],
   "source": [
    "class Property:\n",
    "\n",
    "    def __init__(self, var):\n",
    "        ## initializing the attribute\n",
    "        self.a = var\n",
    "\n",
    "    @property\n",
    "    def a(self):\n",
    "        return self.__a\n",
    "\n",
    "    ## the attribute name and the method name must be same which is used to set the value for the attribute\n",
    "    @a.setter\n",
    "    def a(self, var):\n",
    "        if var > 0 and var % 2 == 0:\n",
    "            self.__a = var\n",
    "        else:\n",
    "            self.__a = 2\n",
    "obj = Property(23)\n",
    "\n",
    "print(obj.a)"
   ]
  },
  {
   "cell_type": "code",
   "execution_count": null,
   "metadata": {},
   "outputs": [],
   "source": []
  }
 ],
 "metadata": {
  "kernelspec": {
   "display_name": "Python 3",
   "language": "python",
   "name": "python3"
  },
  "language_info": {
   "codemirror_mode": {
    "name": "ipython",
    "version": 3
   },
   "file_extension": ".py",
   "mimetype": "text/x-python",
   "name": "python",
   "nbconvert_exporter": "python",
   "pygments_lexer": "ipython3",
   "version": "3.7.3"
  }
 },
 "nbformat": 4,
 "nbformat_minor": 2
}
